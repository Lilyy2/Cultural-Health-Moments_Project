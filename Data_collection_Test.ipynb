{
 "cells": [
  {
   "cell_type": "markdown",
   "metadata": {},
   "source": [
    "### ***Cultural Health Moments:*** \n",
    "A Search Analysis During Times of Heightened Awareness To Identify Potential Interception Points With Digital Health Consumers."
   ]
  },
  {
   "cell_type": "markdown",
   "metadata": {},
   "source": [
    "For the data collection in this project we are going to use Google Trend pecifically PyTrends. Google Trends => is a website by Google that analyzes the popularity of top search queries in Google Search across various regions and languages. The website uses graphs to compare the search volume of different queries over time. PyTrends inturn is a Python library/module that Allows simple interface for automating downloading of reports from Google Trends <br>"
   ]
  },
  {
   "cell_type": "code",
   "execution_count": null,
   "metadata": {},
   "outputs": [],
   "source": []
  }
 ],
 "metadata": {
  "interpreter": {
   "hash": "cbf832c4252051fdc558e7784b69f4ed6bbf9102a3f48b8eb809ae6bc1692499"
  },
  "kernelspec": {
   "display_name": "Python 3.8.10 64-bit ('bigdata': conda)",
   "name": "python3"
  },
  "language_info": {
   "codemirror_mode": {
    "name": "ipython",
    "version": 3
   },
   "file_extension": ".py",
   "mimetype": "text/x-python",
   "name": "python",
   "nbconvert_exporter": "python",
   "pygments_lexer": "ipython3",
   "version": "3.8.10"
  },
  "orig_nbformat": 4
 },
 "nbformat": 4,
 "nbformat_minor": 2
}
